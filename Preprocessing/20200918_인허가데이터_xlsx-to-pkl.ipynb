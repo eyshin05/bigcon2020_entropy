{
 "cells": [
  {
   "cell_type": "code",
   "execution_count": 1,
   "metadata": {},
   "outputs": [],
   "source": [
    "import pickle\n",
    "import pandas as pd\n",
    "\n",
    "import glob\n",
    "import os"
   ]
  },
  {
   "cell_type": "code",
   "execution_count": 2,
   "metadata": {},
   "outputs": [],
   "source": [
    "%config InlineBackend.figure_format = 'retina'"
   ]
  },
  {
   "cell_type": "code",
   "execution_count": 3,
   "metadata": {},
   "outputs": [
    {
     "data": {
      "text/plain": [
       "'1.0.5'"
      ]
     },
     "execution_count": 3,
     "metadata": {},
     "output_type": "execute_result"
    }
   ],
   "source": [
    "pd.__version__"
   ]
  },
  {
   "cell_type": "code",
   "execution_count": 5,
   "metadata": {},
   "outputs": [],
   "source": [
    "fnames = glob.glob('외부데이터/지방행정 인허가 데이터/20200831/fulldata_*.xlsx')"
   ]
  },
  {
   "cell_type": "code",
   "execution_count": 8,
   "metadata": {},
   "outputs": [
    {
     "name": "stdout",
     "output_type": "stream",
     "text": [
      "189 / 190\r"
     ]
    }
   ],
   "source": [
    "def filter_roi(df):\n",
    "    df = df[df['소재지전체주소'].str.contains('서울특별시 중구').fillna(False) \n",
    "            | df['도로명전체주소'].str.contains('서울특별시 중구').fillna(False)\n",
    "            | df['소재지전체주소'].str.contains('서울특별시 노원구').fillna(False)\n",
    "            | df['도로명전체주소'].str.contains('서울특별시 노원구').fillna(False)\n",
    "            | df['소재지전체주소'].str.contains('대구광역시 중구').fillna(False)\n",
    "            | df['도로명전체주소'].str.contains('대구광역시 중구').fillna(False)\n",
    "            | df['소재지전체주소'].str.contains('대구광역시 수성구').fillna(False)\n",
    "            | df['도로명전체주소'].str.contains('대구광역시 수성구').fillna(False)]\n",
    "    \n",
    "    return df\n",
    "\n",
    "for i, fname in enumerate(fnames):\n",
    "    df = None\n",
    "    \n",
    "    xl = pd.ExcelFile(fname)\n",
    "    \n",
    "    for s_name in xl.sheet_names:\n",
    "        if df is None:\n",
    "            df = filter_roi(xl.parse(s_name))\n",
    "        else:\n",
    "            df = df.append(filter_roi(xl.parse(s_name)))\n",
    "\n",
    "    df.to_pickle(fname.replace('.xlsx', '_roi.pkl'))\n",
    "        \n",
    "    print('%d / %d' % (i, len(fnames)), end='\\r')"
   ]
  },
  {
   "cell_type": "code",
   "execution_count": 11,
   "metadata": {},
   "outputs": [],
   "source": [
    "df = pd.read_pickle('외부데이터/지방행정 인허가 데이터/20200831/fulldata_07_24_04_P_일반음식점_roi.pkl')"
   ]
  },
  {
   "cell_type": "code",
   "execution_count": 12,
   "metadata": {},
   "outputs": [
    {
     "data": {
      "text/plain": [
       "35                       서울특별시 중구 동호로 287 (장충동2가)\n",
       "18148                                         NaN\n",
       "18149                                         NaN\n",
       "18150                                         NaN\n",
       "18151     서울특별시 중구 세종대로 124, 한국프레스센터 지하1층 (태평로1가)\n",
       "                           ...                   \n",
       "19972                    대구광역시 수성구 지산로9길 11 (지산동)\n",
       "19973               대구광역시 수성구 용학로 45, 2층,3층 (두산동)\n",
       "19974                대구광역시 수성구 달구벌대로496길 27 (범어동)\n",
       "19975                   대구광역시 수성구 들안로 367 (수성동4가)\n",
       "251186                서울특별시 노원구 덕릉로 774, 2층 (상계동)\n",
       "Name: 도로명전체주소, Length: 52991, dtype: object"
      ]
     },
     "execution_count": 12,
     "metadata": {},
     "output_type": "execute_result"
    }
   ],
   "source": [
    "df['도로명전체주소']"
   ]
  },
  {
   "cell_type": "code",
   "execution_count": null,
   "metadata": {},
   "outputs": [],
   "source": []
  }
 ],
 "metadata": {
  "kernelspec": {
   "display_name": "Python 3",
   "language": "python",
   "name": "python3"
  },
  "language_info": {
   "codemirror_mode": {
    "name": "ipython",
    "version": 3
   },
   "file_extension": ".py",
   "mimetype": "text/x-python",
   "name": "python",
   "nbconvert_exporter": "python",
   "pygments_lexer": "ipython3",
   "version": "3.7.7"
  }
 },
 "nbformat": 4,
 "nbformat_minor": 4
}
